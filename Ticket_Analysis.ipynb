{
 "cells": [
  {
   "cell_type": "code",
   "execution_count": 3,
   "metadata": {},
   "outputs": [],
   "source": [
    "import pandas as pd\n",
    "import numpy as np\n",
    "from sklearn.feature_extraction.text import CountVectorizer\n",
    "from sklearn.metrics.pairwise import cosine_similarity\n",
    "import re"
   ]
  },
  {
   "cell_type": "markdown",
   "metadata": {},
   "source": [
    "# POC"
   ]
  },
  {
   "cell_type": "code",
   "execution_count": 4,
   "metadata": {},
   "outputs": [
    {
     "name": "stdout",
     "output_type": "stream",
     "text": [
      "0 \t This is sentence one \t [1.   0.75 0.  ] \t 1.75\n",
      "1 \t This is sentence two \t [0.75 1.   0.  ] \t 1.75\n",
      "2 \t Not a matching statement \t [0. 0. 1.] \t 1.0000000000000002\n"
     ]
    },
    {
     "data": {
      "text/plain": [
       "[['This is sentence two', 1.75], ['This is sentence one', 1.75]]"
      ]
     },
     "execution_count": 4,
     "metadata": {},
     "output_type": "execute_result"
    }
   ],
   "source": [
    "sentence1='This is sentence one'\n",
    "sentence2='This is sentence two'\n",
    "sentence3='Not a matching statement'\n",
    "\n",
    "df=pd.Series([sentence1,sentence2,sentence3])\n",
    "\n",
    "from sklearn.metrics.pairwise import cosine_similarity\n",
    "from sklearn.feature_extraction.text import CountVectorizer\n",
    "cv = CountVectorizer()\n",
    "\n",
    "data=cv.fit_transform(df)\n",
    "\n",
    "sim=cosine_similarity(data)\n",
    "\n",
    "#print(sim)\n",
    "result=[]\n",
    "for row in df.index:\n",
    "    print(row,'\\t',df[row],'\\t',sim[row],'\\t',sum(sim[row]))\n",
    "    result.append( [df[row],sum(sim[row])] )\n",
    "\n",
    "sorted(result,reverse=True)[0:2]\n",
    "\n",
    "# So these two are similar"
   ]
  },
  {
   "cell_type": "code",
   "execution_count": 5,
   "metadata": {},
   "outputs": [
    {
     "name": "stdout",
     "output_type": "stream",
     "text": [
      "(4500, 6)\n",
      "(4500, 6)\n"
     ]
    }
   ],
   "source": [
    "df=pd.read_csv('Worklist_abstract.csv')\n",
    "print(df.shape)\n",
    "print(df.drop_duplicates().shape)\n",
    "# NO duplicates"
   ]
  },
  {
   "cell_type": "code",
   "execution_count": 6,
   "metadata": {},
   "outputs": [
    {
     "data": {
      "text/html": [
       "<div>\n",
       "<style scoped>\n",
       "    .dataframe tbody tr th:only-of-type {\n",
       "        vertical-align: middle;\n",
       "    }\n",
       "\n",
       "    .dataframe tbody tr th {\n",
       "        vertical-align: top;\n",
       "    }\n",
       "\n",
       "    .dataframe thead th {\n",
       "        text-align: right;\n",
       "    }\n",
       "</style>\n",
       "<table border=\"1\" class=\"dataframe\">\n",
       "  <thead>\n",
       "    <tr style=\"text-align: right;\">\n",
       "      <th></th>\n",
       "      <th>Ticket  #</th>\n",
       "      <th>Severity</th>\n",
       "      <th>Next Check Time</th>\n",
       "      <th>Ticket State</th>\n",
       "      <th>Last Modified Date</th>\n",
       "      <th>Problem Abstract</th>\n",
       "    </tr>\n",
       "  </thead>\n",
       "  <tbody>\n",
       "    <tr>\n",
       "      <th>0</th>\n",
       "      <td>116545208</td>\n",
       "      <td>3 - Minor</td>\n",
       "      <td>09/12/2009 01:41:27 AM</td>\n",
       "      <td>Deferred - Other</td>\n",
       "      <td>09/25/2009 11:35:04 PM</td>\n",
       "      <td>Advanced TV has no network connectivity.  Need...</td>\n",
       "    </tr>\n",
       "    <tr>\n",
       "      <th>1</th>\n",
       "      <td>116821366</td>\n",
       "      <td>2 - Major</td>\n",
       "      <td>09/24/2009 03:52:38 AM</td>\n",
       "      <td>Deferred - Other</td>\n",
       "      <td>03/24/2010 07:38:51 AM</td>\n",
       "      <td>PDC UVERSE ORDER ISSUES</td>\n",
       "    </tr>\n",
       "    <tr>\n",
       "      <th>2</th>\n",
       "      <td>116868930</td>\n",
       "      <td>3 - Minor</td>\n",
       "      <td>09/26/2009 05:09:15 AM</td>\n",
       "      <td>Deferred - Other</td>\n",
       "      <td>10/12/2009 11:07:19 PM</td>\n",
       "      <td>APPLICATION ISSUES</td>\n",
       "    </tr>\n",
       "    <tr>\n",
       "      <th>3</th>\n",
       "      <td>118026344</td>\n",
       "      <td>3 - Minor</td>\n",
       "      <td>11/13/2009 03:13:39 AM</td>\n",
       "      <td>Deferred - Other</td>\n",
       "      <td>11/18/2009 04:31:20 AM</td>\n",
       "      <td>Register just re-imaged by local IT and it doe...</td>\n",
       "    </tr>\n",
       "    <tr>\n",
       "      <th>4</th>\n",
       "      <td>118723231</td>\n",
       "      <td>5 - Normal</td>\n",
       "      <td>12/09/2009 03:07:10 AM</td>\n",
       "      <td>Deferred - Other</td>\n",
       "      <td>08/28/2010 01:58:54 AM</td>\n",
       "      <td>Z - OTHER SOE ISSUES</td>\n",
       "    </tr>\n",
       "  </tbody>\n",
       "</table>\n",
       "</div>"
      ],
      "text/plain": [
       "   Ticket  #    Severity         Next Check Time      Ticket State  \\\n",
       "0  116545208   3 - Minor  09/12/2009 01:41:27 AM  Deferred - Other   \n",
       "1  116821366   2 - Major  09/24/2009 03:52:38 AM  Deferred - Other   \n",
       "2  116868930   3 - Minor  09/26/2009 05:09:15 AM  Deferred - Other   \n",
       "3  118026344   3 - Minor  11/13/2009 03:13:39 AM  Deferred - Other   \n",
       "4  118723231  5 - Normal  12/09/2009 03:07:10 AM  Deferred - Other   \n",
       "\n",
       "       Last Modified Date                                   Problem Abstract  \n",
       "0  09/25/2009 11:35:04 PM  Advanced TV has no network connectivity.  Need...  \n",
       "1  03/24/2010 07:38:51 AM                            PDC UVERSE ORDER ISSUES  \n",
       "2  10/12/2009 11:07:19 PM                                 APPLICATION ISSUES  \n",
       "3  11/18/2009 04:31:20 AM  Register just re-imaged by local IT and it doe...  \n",
       "4  08/28/2010 01:58:54 AM                               Z - OTHER SOE ISSUES  "
      ]
     },
     "execution_count": 6,
     "metadata": {},
     "output_type": "execute_result"
    }
   ],
   "source": [
    "df.head()"
   ]
  },
  {
   "cell_type": "code",
   "execution_count": 7,
   "metadata": {},
   "outputs": [
    {
     "name": "stdout",
     "output_type": "stream",
     "text": [
      "<class 'pandas.core.frame.DataFrame'>\n",
      "RangeIndex: 4500 entries, 0 to 4499\n",
      "Data columns (total 6 columns):\n",
      " #   Column              Non-Null Count  Dtype \n",
      "---  ------              --------------  ----- \n",
      " 0   Ticket  #           4500 non-null   int64 \n",
      " 1   Severity            4500 non-null   object\n",
      " 2   Next Check Time     4500 non-null   object\n",
      " 3   Ticket State        4500 non-null   object\n",
      " 4   Last Modified Date  4500 non-null   object\n",
      " 5   Problem Abstract    4469 non-null   object\n",
      "dtypes: int64(1), object(5)\n",
      "memory usage: 211.1+ KB\n"
     ]
    }
   ],
   "source": [
    "df.info()\n",
    "# some ticket description are null, no use, can be dropped"
   ]
  },
  {
   "cell_type": "code",
   "execution_count": 8,
   "metadata": {},
   "outputs": [
    {
     "data": {
      "text/plain": [
       "401"
      ]
     },
     "execution_count": 8,
     "metadata": {},
     "output_type": "execute_result"
    }
   ],
   "source": [
    "len(df[df['Ticket State']=='Active'])\n",
    "#401 records are active that can be used for testing"
   ]
  },
  {
   "cell_type": "markdown",
   "metadata": {},
   "source": [
    "# Data cleaning"
   ]
  },
  {
   "cell_type": "code",
   "execution_count": 9,
   "metadata": {},
   "outputs": [],
   "source": [
    "# Last Modified Date,Next Check Time : Irrelevant info\n",
    "df.drop(['Last Modified Date','Next Check Time'],axis=1,inplace=True)"
   ]
  },
  {
   "cell_type": "code",
   "execution_count": 10,
   "metadata": {},
   "outputs": [
    {
     "data": {
      "text/html": [
       "<div>\n",
       "<style scoped>\n",
       "    .dataframe tbody tr th:only-of-type {\n",
       "        vertical-align: middle;\n",
       "    }\n",
       "\n",
       "    .dataframe tbody tr th {\n",
       "        vertical-align: top;\n",
       "    }\n",
       "\n",
       "    .dataframe thead th {\n",
       "        text-align: right;\n",
       "    }\n",
       "</style>\n",
       "<table border=\"1\" class=\"dataframe\">\n",
       "  <thead>\n",
       "    <tr style=\"text-align: right;\">\n",
       "      <th></th>\n",
       "      <th>Ticket  #</th>\n",
       "      <th>Severity</th>\n",
       "      <th>Ticket State</th>\n",
       "      <th>Problem Abstract</th>\n",
       "    </tr>\n",
       "  </thead>\n",
       "  <tbody>\n",
       "    <tr>\n",
       "      <th>0</th>\n",
       "      <td>116545208</td>\n",
       "      <td>3 - Minor</td>\n",
       "      <td>Deferred - Other</td>\n",
       "      <td>Advanced TV has no network connectivity.  Need...</td>\n",
       "    </tr>\n",
       "    <tr>\n",
       "      <th>1</th>\n",
       "      <td>116821366</td>\n",
       "      <td>2 - Major</td>\n",
       "      <td>Deferred - Other</td>\n",
       "      <td>PDC UVERSE ORDER ISSUES</td>\n",
       "    </tr>\n",
       "    <tr>\n",
       "      <th>2</th>\n",
       "      <td>116868930</td>\n",
       "      <td>3 - Minor</td>\n",
       "      <td>Deferred - Other</td>\n",
       "      <td>APPLICATION ISSUES</td>\n",
       "    </tr>\n",
       "    <tr>\n",
       "      <th>3</th>\n",
       "      <td>118026344</td>\n",
       "      <td>3 - Minor</td>\n",
       "      <td>Deferred - Other</td>\n",
       "      <td>Register just re-imaged by local IT and it doe...</td>\n",
       "    </tr>\n",
       "    <tr>\n",
       "      <th>4</th>\n",
       "      <td>118723231</td>\n",
       "      <td>5 - Normal</td>\n",
       "      <td>Deferred - Other</td>\n",
       "      <td>Z - OTHER SOE ISSUES</td>\n",
       "    </tr>\n",
       "  </tbody>\n",
       "</table>\n",
       "</div>"
      ],
      "text/plain": [
       "   Ticket  #    Severity      Ticket State  \\\n",
       "0  116545208   3 - Minor  Deferred - Other   \n",
       "1  116821366   2 - Major  Deferred - Other   \n",
       "2  116868930   3 - Minor  Deferred - Other   \n",
       "3  118026344   3 - Minor  Deferred - Other   \n",
       "4  118723231  5 - Normal  Deferred - Other   \n",
       "\n",
       "                                    Problem Abstract  \n",
       "0  Advanced TV has no network connectivity.  Need...  \n",
       "1                            PDC UVERSE ORDER ISSUES  \n",
       "2                                 APPLICATION ISSUES  \n",
       "3  Register just re-imaged by local IT and it doe...  \n",
       "4                               Z - OTHER SOE ISSUES  "
      ]
     },
     "execution_count": 10,
     "metadata": {},
     "output_type": "execute_result"
    }
   ],
   "source": [
    "df.head()\n",
    "#need to simplify column name\n",
    "# Convert to numerical =>severitity col\n",
    "# Ticket state - Categorical. just take care of deferred status"
   ]
  },
  {
   "cell_type": "code",
   "execution_count": 11,
   "metadata": {},
   "outputs": [
    {
     "data": {
      "text/html": [
       "<div>\n",
       "<style scoped>\n",
       "    .dataframe tbody tr th:only-of-type {\n",
       "        vertical-align: middle;\n",
       "    }\n",
       "\n",
       "    .dataframe tbody tr th {\n",
       "        vertical-align: top;\n",
       "    }\n",
       "\n",
       "    .dataframe thead th {\n",
       "        text-align: right;\n",
       "    }\n",
       "</style>\n",
       "<table border=\"1\" class=\"dataframe\">\n",
       "  <thead>\n",
       "    <tr style=\"text-align: right;\">\n",
       "      <th></th>\n",
       "      <th>ticket</th>\n",
       "      <th>severity</th>\n",
       "      <th>status</th>\n",
       "      <th>description</th>\n",
       "    </tr>\n",
       "  </thead>\n",
       "  <tbody>\n",
       "    <tr>\n",
       "      <th>0</th>\n",
       "      <td>116545208</td>\n",
       "      <td>3 - Minor</td>\n",
       "      <td>Deferred - Other</td>\n",
       "      <td>Advanced TV has no network connectivity.  Need...</td>\n",
       "    </tr>\n",
       "    <tr>\n",
       "      <th>1</th>\n",
       "      <td>116821366</td>\n",
       "      <td>2 - Major</td>\n",
       "      <td>Deferred - Other</td>\n",
       "      <td>PDC UVERSE ORDER ISSUES</td>\n",
       "    </tr>\n",
       "  </tbody>\n",
       "</table>\n",
       "</div>"
      ],
      "text/plain": [
       "      ticket   severity            status  \\\n",
       "0  116545208  3 - Minor  Deferred - Other   \n",
       "1  116821366  2 - Major  Deferred - Other   \n",
       "\n",
       "                                         description  \n",
       "0  Advanced TV has no network connectivity.  Need...  \n",
       "1                            PDC UVERSE ORDER ISSUES  "
      ]
     },
     "execution_count": 11,
     "metadata": {},
     "output_type": "execute_result"
    }
   ],
   "source": [
    "df.columns=['ticket', 'severity', 'status', 'description']\n",
    "df.head(2)"
   ]
  },
  {
   "cell_type": "code",
   "execution_count": 12,
   "metadata": {},
   "outputs": [
    {
     "name": "stdout",
     "output_type": "stream",
     "text": [
      "(4469, 4)\n"
     ]
    }
   ],
   "source": [
    "df=df[df['description'].notnull()]\n",
    "print(df.shape)"
   ]
  },
  {
   "cell_type": "markdown",
   "metadata": {},
   "source": [
    "## Second csv file for tickets"
   ]
  },
  {
   "cell_type": "code",
   "execution_count": 13,
   "metadata": {},
   "outputs": [
    {
     "data": {
      "text/html": [
       "<div>\n",
       "<style scoped>\n",
       "    .dataframe tbody tr th:only-of-type {\n",
       "        vertical-align: middle;\n",
       "    }\n",
       "\n",
       "    .dataframe tbody tr th {\n",
       "        vertical-align: top;\n",
       "    }\n",
       "\n",
       "    .dataframe thead th {\n",
       "        text-align: right;\n",
       "    }\n",
       "</style>\n",
       "<table border=\"1\" class=\"dataframe\">\n",
       "  <thead>\n",
       "    <tr style=\"text-align: right;\">\n",
       "      <th></th>\n",
       "      <th>Application</th>\n",
       "      <th>Status</th>\n",
       "      <th>Ticket</th>\n",
       "      <th>Description</th>\n",
       "    </tr>\n",
       "  </thead>\n",
       "  <tbody>\n",
       "    <tr>\n",
       "      <th>0</th>\n",
       "      <td>CAPM</td>\n",
       "      <td>Assigned To PS-T1</td>\n",
       "      <td>258593331</td>\n",
       "      <td>The ptauth response files are taking to long t...</td>\n",
       "    </tr>\n",
       "    <tr>\n",
       "      <th>1</th>\n",
       "      <td>CAPM</td>\n",
       "      <td>Assigned To PS-T1</td>\n",
       "      <td>240050653</td>\n",
       "      <td>profileMaint.LOG.CAPM.B20180101 failure</td>\n",
       "    </tr>\n",
       "    <tr>\n",
       "      <th>2</th>\n",
       "      <td>CAPM</td>\n",
       "      <td>Assigned To PS-T1</td>\n",
       "      <td>240108084</td>\n",
       "      <td>Job failure : achpam.c010218220309</td>\n",
       "    </tr>\n",
       "    <tr>\n",
       "      <th>3</th>\n",
       "      <td>CAPM</td>\n",
       "      <td>Assigned To PS-T1</td>\n",
       "      <td>240196247</td>\n",
       "      <td>chgbkFD.f010518035553 failure</td>\n",
       "    </tr>\n",
       "    <tr>\n",
       "      <th>4</th>\n",
       "      <td>CAPM</td>\n",
       "      <td>Assigned To PS-T1</td>\n",
       "      <td>240196255</td>\n",
       "      <td>achpam.c010418220326 file failure</td>\n",
       "    </tr>\n",
       "  </tbody>\n",
       "</table>\n",
       "</div>"
      ],
      "text/plain": [
       "  Application             Status     Ticket  \\\n",
       "0        CAPM  Assigned To PS-T1  258593331   \n",
       "1        CAPM  Assigned To PS-T1  240050653   \n",
       "2        CAPM  Assigned To PS-T1  240108084   \n",
       "3        CAPM  Assigned To PS-T1  240196247   \n",
       "4        CAPM  Assigned To PS-T1  240196255   \n",
       "\n",
       "                                         Description  \n",
       "0  The ptauth response files are taking to long t...  \n",
       "1            profileMaint.LOG.CAPM.B20180101 failure  \n",
       "2                 Job failure : achpam.c010218220309  \n",
       "3                      chgbkFD.f010518035553 failure  \n",
       "4                  achpam.c010418220326 file failure  "
      ]
     },
     "execution_count": 13,
     "metadata": {},
     "output_type": "execute_result"
    }
   ],
   "source": [
    "tracker=pd.read_csv('Tracker_simple.csv',encoding='ISO-8859-1')  #some char not decoded by UTF-8 format\n",
    "tracker.head()"
   ]
  },
  {
   "cell_type": "code",
   "execution_count": 14,
   "metadata": {},
   "outputs": [],
   "source": [
    "tracker.columns=['application','status','ticket','description']"
   ]
  },
  {
   "cell_type": "code",
   "execution_count": 15,
   "metadata": {},
   "outputs": [
    {
     "data": {
      "text/html": [
       "<div>\n",
       "<style scoped>\n",
       "    .dataframe tbody tr th:only-of-type {\n",
       "        vertical-align: middle;\n",
       "    }\n",
       "\n",
       "    .dataframe tbody tr th {\n",
       "        vertical-align: top;\n",
       "    }\n",
       "\n",
       "    .dataframe thead th {\n",
       "        text-align: right;\n",
       "    }\n",
       "</style>\n",
       "<table border=\"1\" class=\"dataframe\">\n",
       "  <thead>\n",
       "    <tr style=\"text-align: right;\">\n",
       "      <th></th>\n",
       "      <th>application</th>\n",
       "      <th>status</th>\n",
       "      <th>ticket</th>\n",
       "      <th>description</th>\n",
       "    </tr>\n",
       "  </thead>\n",
       "  <tbody>\n",
       "    <tr>\n",
       "      <th>0</th>\n",
       "      <td>CAPM</td>\n",
       "      <td>Assigned To PS-T1</td>\n",
       "      <td>258593331</td>\n",
       "      <td>The ptauth response files are taking to long t...</td>\n",
       "    </tr>\n",
       "    <tr>\n",
       "      <th>1</th>\n",
       "      <td>CAPM</td>\n",
       "      <td>Assigned To PS-T1</td>\n",
       "      <td>240050653</td>\n",
       "      <td>profileMaint.LOG.CAPM.B20180101 failure</td>\n",
       "    </tr>\n",
       "    <tr>\n",
       "      <th>2</th>\n",
       "      <td>CAPM</td>\n",
       "      <td>Assigned To PS-T1</td>\n",
       "      <td>240108084</td>\n",
       "      <td>Job failure : achpam.c010218220309</td>\n",
       "    </tr>\n",
       "    <tr>\n",
       "      <th>3</th>\n",
       "      <td>CAPM</td>\n",
       "      <td>Assigned To PS-T1</td>\n",
       "      <td>240196247</td>\n",
       "      <td>chgbkFD.f010518035553 failure</td>\n",
       "    </tr>\n",
       "    <tr>\n",
       "      <th>4</th>\n",
       "      <td>CAPM</td>\n",
       "      <td>Assigned To PS-T1</td>\n",
       "      <td>240196255</td>\n",
       "      <td>achpam.c010418220326 file failure</td>\n",
       "    </tr>\n",
       "  </tbody>\n",
       "</table>\n",
       "</div>"
      ],
      "text/plain": [
       "  application             status     ticket  \\\n",
       "0        CAPM  Assigned To PS-T1  258593331   \n",
       "1        CAPM  Assigned To PS-T1  240050653   \n",
       "2        CAPM  Assigned To PS-T1  240108084   \n",
       "3        CAPM  Assigned To PS-T1  240196247   \n",
       "4        CAPM  Assigned To PS-T1  240196255   \n",
       "\n",
       "                                         description  \n",
       "0  The ptauth response files are taking to long t...  \n",
       "1            profileMaint.LOG.CAPM.B20180101 failure  \n",
       "2                 Job failure : achpam.c010218220309  \n",
       "3                      chgbkFD.f010518035553 failure  \n",
       "4                  achpam.c010418220326 file failure  "
      ]
     },
     "execution_count": 15,
     "metadata": {},
     "output_type": "execute_result"
    }
   ],
   "source": [
    "tracker.head()"
   ]
  },
  {
   "cell_type": "code",
   "execution_count": 16,
   "metadata": {},
   "outputs": [
    {
     "name": "stdout",
     "output_type": "stream",
     "text": [
      "<class 'pandas.core.frame.DataFrame'>\n",
      "RangeIndex: 1205 entries, 0 to 1204\n",
      "Data columns (total 4 columns):\n",
      " #   Column       Non-Null Count  Dtype \n",
      "---  ------       --------------  ----- \n",
      " 0   application  1205 non-null   object\n",
      " 1   status       1205 non-null   object\n",
      " 2   ticket       1205 non-null   int64 \n",
      " 3   description  1205 non-null   object\n",
      "dtypes: int64(1), object(3)\n",
      "memory usage: 37.8+ KB\n"
     ]
    }
   ],
   "source": [
    "tracker.info()"
   ]
  },
  {
   "cell_type": "code",
   "execution_count": 17,
   "metadata": {},
   "outputs": [
    {
     "name": "stdout",
     "output_type": "stream",
     "text": [
      "Original shape :           (1205, 4)\n",
      "After dropping duplicates: (1187, 4)\n",
      "37\n"
     ]
    }
   ],
   "source": [
    "print('Original shape :          ',tracker.shape)\n",
    "print('After dropping duplicates:',tracker.drop_duplicates(keep='first').shape)\n",
    "print(tracker[tracker.duplicated('ticket')]['ticket'].count())\n",
    "# 1205-1187 = 18 seems duplicates present if all column considered\n",
    "# 37 seems duplicates present if ONLY 'ticket' considered"
   ]
  },
  {
   "cell_type": "code",
   "execution_count": 18,
   "metadata": {},
   "outputs": [
    {
     "data": {
      "text/plain": [
       "37"
      ]
     },
     "execution_count": 18,
     "metadata": {},
     "output_type": "execute_result"
    }
   ],
   "source": [
    "# need to check if ticket duplicates in both dataset\n",
    "len(tracker[tracker.duplicated('ticket')].sort_values(by='ticket'))\n",
    "\n",
    "#here only first occurence is visible => total : 37"
   ]
  },
  {
   "cell_type": "code",
   "execution_count": 19,
   "metadata": {},
   "outputs": [
    {
     "data": {
      "text/plain": [
       "application                                                CAPM \n",
       "status                                         Assigned To PS-T1\n",
       "ticket                                                 271355923\n",
       "description    Missing credit response ref error on failed tr...\n",
       "Name: 1200, dtype: object"
      ]
     },
     "execution_count": 19,
     "metadata": {},
     "output_type": "execute_result"
    }
   ],
   "source": [
    "tracker.iloc[1200]"
   ]
  },
  {
   "cell_type": "code",
   "execution_count": 20,
   "metadata": {},
   "outputs": [
    {
     "data": {
      "text/html": [
       "<div>\n",
       "<style scoped>\n",
       "    .dataframe tbody tr th:only-of-type {\n",
       "        vertical-align: middle;\n",
       "    }\n",
       "\n",
       "    .dataframe tbody tr th {\n",
       "        vertical-align: top;\n",
       "    }\n",
       "\n",
       "    .dataframe thead th {\n",
       "        text-align: right;\n",
       "    }\n",
       "</style>\n",
       "<table border=\"1\" class=\"dataframe\">\n",
       "  <thead>\n",
       "    <tr style=\"text-align: right;\">\n",
       "      <th></th>\n",
       "      <th>application</th>\n",
       "      <th>status</th>\n",
       "      <th>ticket</th>\n",
       "      <th>description</th>\n",
       "    </tr>\n",
       "  </thead>\n",
       "  <tbody>\n",
       "    <tr>\n",
       "      <th>266</th>\n",
       "      <td>CAPM</td>\n",
       "      <td>Assigned To PS-T1</td>\n",
       "      <td>271355923</td>\n",
       "      <td>OTHER</td>\n",
       "    </tr>\n",
       "    <tr>\n",
       "      <th>1200</th>\n",
       "      <td>CAPM</td>\n",
       "      <td>Assigned To PS-T1</td>\n",
       "      <td>271355923</td>\n",
       "      <td>Missing credit response ref error on failed tr...</td>\n",
       "    </tr>\n",
       "  </tbody>\n",
       "</table>\n",
       "</div>"
      ],
      "text/plain": [
       "     application             status     ticket  \\\n",
       "266         CAPM  Assigned To PS-T1  271355923   \n",
       "1200       CAPM   Assigned To PS-T1  271355923   \n",
       "\n",
       "                                            description  \n",
       "266                                               OTHER  \n",
       "1200  Missing credit response ref error on failed tr...  "
      ]
     },
     "execution_count": 20,
     "metadata": {},
     "output_type": "execute_result"
    }
   ],
   "source": [
    "tracker[tracker['ticket']==271355923]\n",
    "\n",
    "#244845137 all rows same\n",
    "#271355923 only ticket same, desc diff"
   ]
  },
  {
   "cell_type": "code",
   "execution_count": 21,
   "metadata": {},
   "outputs": [
    {
     "name": "stdout",
     "output_type": "stream",
     "text": [
      "271355923\n",
      "271218150\n",
      "270965451\n",
      "3\n"
     ]
    }
   ],
   "source": [
    "cnt=0\n",
    "for row in tracker.values:\n",
    "    if row[3]=='OTHER':\n",
    "        print(row[2])\n",
    "        cnt+=1\n",
    "print(cnt)\n",
    "# description with just \"OTHER\" doesn't help us. So removing"
   ]
  },
  {
   "cell_type": "code",
   "execution_count": 22,
   "metadata": {},
   "outputs": [
    {
     "name": "stdout",
     "output_type": "stream",
     "text": [
      "(1205, 4)\n",
      "(1202, 4)\n"
     ]
    }
   ],
   "source": [
    "print(tracker.shape)\n",
    "tracker=tracker[tracker['description']!='OTHER']\n",
    "print(tracker.shape)"
   ]
  },
  {
   "cell_type": "code",
   "execution_count": 23,
   "metadata": {},
   "outputs": [
    {
     "data": {
      "text/plain": [
       "(1166, 4)"
      ]
     },
     "execution_count": 23,
     "metadata": {},
     "output_type": "execute_result"
    }
   ],
   "source": [
    "#Before this step, drop tickets with \"OTHER\" values!!! Else we drop ticket with desc over ticket with just Other\n",
    "tracker=tracker.drop_duplicates('ticket')\n",
    "tracker.shape\n",
    "\n",
    "#dropped 36 same tickets"
   ]
  },
  {
   "cell_type": "code",
   "execution_count": 24,
   "metadata": {},
   "outputs": [
    {
     "name": "stdout",
     "output_type": "stream",
     "text": [
      "208\n",
      "(4469, 4)\n"
     ]
    }
   ],
   "source": [
    "# Same for first data =>df\n",
    "\n",
    "cnt=0\n",
    "for row in df.values:\n",
    "    if row[3]=='OTHER':\n",
    "        #print(row[3])\n",
    "        cnt+=1\n",
    "print(cnt)\n",
    "print(df.shape)\n",
    "# 208 records with description 'OTHER'"
   ]
  },
  {
   "cell_type": "code",
   "execution_count": 25,
   "metadata": {},
   "outputs": [
    {
     "data": {
      "text/plain": [
       "(4261, 4)"
      ]
     },
     "execution_count": 25,
     "metadata": {},
     "output_type": "execute_result"
    }
   ],
   "source": [
    "df=df[df['description']!='OTHER']\n",
    "\n",
    "df=df.drop_duplicates('ticket')\n",
    "df.shape\n",
    "\n",
    "\n",
    "# 4469-4261=208 records with OTHER dropped"
   ]
  },
  {
   "cell_type": "code",
   "execution_count": 26,
   "metadata": {},
   "outputs": [],
   "source": [
    "df.to_csv('data/AOTS.csv',index=False)\n",
    "tracker.to_csv('data/tracker.csv',index=False)\n",
    "\n",
    "# Backup of clean data"
   ]
  },
  {
   "cell_type": "code",
   "execution_count": 27,
   "metadata": {},
   "outputs": [],
   "source": [
    "df=pd.read_csv('data/AOTS.csv')\n",
    "tracker=pd.read_csv('data/tracker.csv')"
   ]
  },
  {
   "cell_type": "code",
   "execution_count": 28,
   "metadata": {},
   "outputs": [
    {
     "name": "stdout",
     "output_type": "stream",
     "text": [
      "(4261, 4)\n",
      "(1166, 4)\n"
     ]
    }
   ],
   "source": [
    "print(df.shape)\n",
    "print(tracker.shape)"
   ]
  },
  {
   "cell_type": "code",
   "execution_count": 29,
   "metadata": {},
   "outputs": [
    {
     "data": {
      "text/html": [
       "<div>\n",
       "<style scoped>\n",
       "    .dataframe tbody tr th:only-of-type {\n",
       "        vertical-align: middle;\n",
       "    }\n",
       "\n",
       "    .dataframe tbody tr th {\n",
       "        vertical-align: top;\n",
       "    }\n",
       "\n",
       "    .dataframe thead th {\n",
       "        text-align: right;\n",
       "    }\n",
       "</style>\n",
       "<table border=\"1\" class=\"dataframe\">\n",
       "  <thead>\n",
       "    <tr style=\"text-align: right;\">\n",
       "      <th></th>\n",
       "      <th>ticket</th>\n",
       "      <th>severity</th>\n",
       "      <th>status</th>\n",
       "      <th>description</th>\n",
       "    </tr>\n",
       "  </thead>\n",
       "  <tbody>\n",
       "    <tr>\n",
       "      <th>0</th>\n",
       "      <td>116545208</td>\n",
       "      <td>3 - Minor</td>\n",
       "      <td>Deferred - Other</td>\n",
       "      <td>Advanced TV has no network connectivity.  Need...</td>\n",
       "    </tr>\n",
       "    <tr>\n",
       "      <th>1</th>\n",
       "      <td>116821366</td>\n",
       "      <td>2 - Major</td>\n",
       "      <td>Deferred - Other</td>\n",
       "      <td>PDC UVERSE ORDER ISSUES</td>\n",
       "    </tr>\n",
       "  </tbody>\n",
       "</table>\n",
       "</div>"
      ],
      "text/plain": [
       "      ticket   severity            status  \\\n",
       "0  116545208  3 - Minor  Deferred - Other   \n",
       "1  116821366  2 - Major  Deferred - Other   \n",
       "\n",
       "                                         description  \n",
       "0  Advanced TV has no network connectivity.  Need...  \n",
       "1                            PDC UVERSE ORDER ISSUES  "
      ]
     },
     "execution_count": 29,
     "metadata": {},
     "output_type": "execute_result"
    }
   ],
   "source": [
    "df.head(2)"
   ]
  },
  {
   "cell_type": "code",
   "execution_count": 30,
   "metadata": {},
   "outputs": [
    {
     "data": {
      "text/html": [
       "<div>\n",
       "<style scoped>\n",
       "    .dataframe tbody tr th:only-of-type {\n",
       "        vertical-align: middle;\n",
       "    }\n",
       "\n",
       "    .dataframe tbody tr th {\n",
       "        vertical-align: top;\n",
       "    }\n",
       "\n",
       "    .dataframe thead th {\n",
       "        text-align: right;\n",
       "    }\n",
       "</style>\n",
       "<table border=\"1\" class=\"dataframe\">\n",
       "  <thead>\n",
       "    <tr style=\"text-align: right;\">\n",
       "      <th></th>\n",
       "      <th>application</th>\n",
       "      <th>status</th>\n",
       "      <th>ticket</th>\n",
       "      <th>description</th>\n",
       "    </tr>\n",
       "  </thead>\n",
       "  <tbody>\n",
       "    <tr>\n",
       "      <th>0</th>\n",
       "      <td>CAPM</td>\n",
       "      <td>Assigned To PS-T1</td>\n",
       "      <td>258593331</td>\n",
       "      <td>The ptauth response files are taking to long t...</td>\n",
       "    </tr>\n",
       "    <tr>\n",
       "      <th>1</th>\n",
       "      <td>CAPM</td>\n",
       "      <td>Assigned To PS-T1</td>\n",
       "      <td>240050653</td>\n",
       "      <td>profileMaint.LOG.CAPM.B20180101 failure</td>\n",
       "    </tr>\n",
       "  </tbody>\n",
       "</table>\n",
       "</div>"
      ],
      "text/plain": [
       "  application             status     ticket  \\\n",
       "0        CAPM  Assigned To PS-T1  258593331   \n",
       "1        CAPM  Assigned To PS-T1  240050653   \n",
       "\n",
       "                                         description  \n",
       "0  The ptauth response files are taking to long t...  \n",
       "1            profileMaint.LOG.CAPM.B20180101 failure  "
      ]
     },
     "execution_count": 30,
     "metadata": {},
     "output_type": "execute_result"
    }
   ],
   "source": [
    "tracker.head(2)"
   ]
  },
  {
   "cell_type": "markdown",
   "metadata": {},
   "source": [
    "Since we don't have application in one dataset & severity in other\n",
    "lets drop them & merge both"
   ]
  },
  {
   "cell_type": "code",
   "execution_count": 31,
   "metadata": {},
   "outputs": [],
   "source": [
    "df.drop('severity',inplace=True,axis=1)\n",
    "tracker.drop('application',inplace=True,axis=1)"
   ]
  },
  {
   "cell_type": "code",
   "execution_count": 32,
   "metadata": {},
   "outputs": [
    {
     "data": {
      "text/html": [
       "<div>\n",
       "<style scoped>\n",
       "    .dataframe tbody tr th:only-of-type {\n",
       "        vertical-align: middle;\n",
       "    }\n",
       "\n",
       "    .dataframe tbody tr th {\n",
       "        vertical-align: top;\n",
       "    }\n",
       "\n",
       "    .dataframe thead th {\n",
       "        text-align: right;\n",
       "    }\n",
       "</style>\n",
       "<table border=\"1\" class=\"dataframe\">\n",
       "  <thead>\n",
       "    <tr style=\"text-align: right;\">\n",
       "      <th></th>\n",
       "      <th>ticket</th>\n",
       "      <th>status</th>\n",
       "      <th>description</th>\n",
       "    </tr>\n",
       "  </thead>\n",
       "  <tbody>\n",
       "    <tr>\n",
       "      <th>0</th>\n",
       "      <td>116545208</td>\n",
       "      <td>Deferred - Other</td>\n",
       "      <td>Advanced TV has no network connectivity.  Need...</td>\n",
       "    </tr>\n",
       "    <tr>\n",
       "      <th>1</th>\n",
       "      <td>116821366</td>\n",
       "      <td>Deferred - Other</td>\n",
       "      <td>PDC UVERSE ORDER ISSUES</td>\n",
       "    </tr>\n",
       "  </tbody>\n",
       "</table>\n",
       "</div>"
      ],
      "text/plain": [
       "      ticket            status  \\\n",
       "0  116545208  Deferred - Other   \n",
       "1  116821366  Deferred - Other   \n",
       "\n",
       "                                         description  \n",
       "0  Advanced TV has no network connectivity.  Need...  \n",
       "1                            PDC UVERSE ORDER ISSUES  "
      ]
     },
     "execution_count": 32,
     "metadata": {},
     "output_type": "execute_result"
    }
   ],
   "source": [
    "df.head(2)"
   ]
  },
  {
   "cell_type": "code",
   "execution_count": 33,
   "metadata": {},
   "outputs": [
    {
     "data": {
      "text/html": [
       "<div>\n",
       "<style scoped>\n",
       "    .dataframe tbody tr th:only-of-type {\n",
       "        vertical-align: middle;\n",
       "    }\n",
       "\n",
       "    .dataframe tbody tr th {\n",
       "        vertical-align: top;\n",
       "    }\n",
       "\n",
       "    .dataframe thead th {\n",
       "        text-align: right;\n",
       "    }\n",
       "</style>\n",
       "<table border=\"1\" class=\"dataframe\">\n",
       "  <thead>\n",
       "    <tr style=\"text-align: right;\">\n",
       "      <th></th>\n",
       "      <th>ticket</th>\n",
       "      <th>status</th>\n",
       "      <th>description</th>\n",
       "    </tr>\n",
       "  </thead>\n",
       "  <tbody>\n",
       "    <tr>\n",
       "      <th>0</th>\n",
       "      <td>258593331</td>\n",
       "      <td>Assigned To PS-T1</td>\n",
       "      <td>The ptauth response files are taking to long t...</td>\n",
       "    </tr>\n",
       "    <tr>\n",
       "      <th>1</th>\n",
       "      <td>240050653</td>\n",
       "      <td>Assigned To PS-T1</td>\n",
       "      <td>profileMaint.LOG.CAPM.B20180101 failure</td>\n",
       "    </tr>\n",
       "  </tbody>\n",
       "</table>\n",
       "</div>"
      ],
      "text/plain": [
       "      ticket             status  \\\n",
       "0  258593331  Assigned To PS-T1   \n",
       "1  240050653  Assigned To PS-T1   \n",
       "\n",
       "                                         description  \n",
       "0  The ptauth response files are taking to long t...  \n",
       "1            profileMaint.LOG.CAPM.B20180101 failure  "
      ]
     },
     "execution_count": 33,
     "metadata": {},
     "output_type": "execute_result"
    }
   ],
   "source": [
    "tracker=tracker[['ticket','status','description']]\n",
    "tracker.head(2)"
   ]
  },
  {
   "cell_type": "code",
   "execution_count": 34,
   "metadata": {},
   "outputs": [],
   "source": [
    "# Tried merging these two df on ticket no. , No common values ie no duplicates"
   ]
  },
  {
   "cell_type": "code",
   "execution_count": 35,
   "metadata": {},
   "outputs": [],
   "source": [
    "comb=pd.concat([df,tracker],ignore_index=True)"
   ]
  },
  {
   "cell_type": "code",
   "execution_count": 36,
   "metadata": {},
   "outputs": [
    {
     "data": {
      "text/html": [
       "<div>\n",
       "<style scoped>\n",
       "    .dataframe tbody tr th:only-of-type {\n",
       "        vertical-align: middle;\n",
       "    }\n",
       "\n",
       "    .dataframe tbody tr th {\n",
       "        vertical-align: top;\n",
       "    }\n",
       "\n",
       "    .dataframe thead th {\n",
       "        text-align: right;\n",
       "    }\n",
       "</style>\n",
       "<table border=\"1\" class=\"dataframe\">\n",
       "  <thead>\n",
       "    <tr style=\"text-align: right;\">\n",
       "      <th></th>\n",
       "      <th>ticket</th>\n",
       "      <th>status</th>\n",
       "      <th>description</th>\n",
       "    </tr>\n",
       "  </thead>\n",
       "  <tbody>\n",
       "    <tr>\n",
       "      <th>0</th>\n",
       "      <td>116545208</td>\n",
       "      <td>Deferred - Other</td>\n",
       "      <td>Advanced TV has no network connectivity.  Need...</td>\n",
       "    </tr>\n",
       "    <tr>\n",
       "      <th>1</th>\n",
       "      <td>116821366</td>\n",
       "      <td>Deferred - Other</td>\n",
       "      <td>PDC UVERSE ORDER ISSUES</td>\n",
       "    </tr>\n",
       "    <tr>\n",
       "      <th>2</th>\n",
       "      <td>116868930</td>\n",
       "      <td>Deferred - Other</td>\n",
       "      <td>APPLICATION ISSUES</td>\n",
       "    </tr>\n",
       "    <tr>\n",
       "      <th>3</th>\n",
       "      <td>118026344</td>\n",
       "      <td>Deferred - Other</td>\n",
       "      <td>Register just re-imaged by local IT and it doe...</td>\n",
       "    </tr>\n",
       "    <tr>\n",
       "      <th>4</th>\n",
       "      <td>118723231</td>\n",
       "      <td>Deferred - Other</td>\n",
       "      <td>Z - OTHER SOE ISSUES</td>\n",
       "    </tr>\n",
       "  </tbody>\n",
       "</table>\n",
       "</div>"
      ],
      "text/plain": [
       "      ticket            status  \\\n",
       "0  116545208  Deferred - Other   \n",
       "1  116821366  Deferred - Other   \n",
       "2  116868930  Deferred - Other   \n",
       "3  118026344  Deferred - Other   \n",
       "4  118723231  Deferred - Other   \n",
       "\n",
       "                                         description  \n",
       "0  Advanced TV has no network connectivity.  Need...  \n",
       "1                            PDC UVERSE ORDER ISSUES  \n",
       "2                                 APPLICATION ISSUES  \n",
       "3  Register just re-imaged by local IT and it doe...  \n",
       "4                               Z - OTHER SOE ISSUES  "
      ]
     },
     "execution_count": 36,
     "metadata": {},
     "output_type": "execute_result"
    }
   ],
   "source": [
    "comb.head()"
   ]
  },
  {
   "cell_type": "code",
   "execution_count": 37,
   "metadata": {},
   "outputs": [
    {
     "name": "stdout",
     "output_type": "stream",
     "text": [
      "(5427, 3)\n",
      "(5427, 3)\n"
     ]
    }
   ],
   "source": [
    "print(comb.shape)\n",
    "print(comb.drop_duplicates().shape)"
   ]
  },
  {
   "cell_type": "code",
   "execution_count": 38,
   "metadata": {},
   "outputs": [
    {
     "data": {
      "text/plain": [
       "Queued                            2952\n",
       "Assigned To PS-T1                 1151\n",
       "Ready to Close                     658\n",
       "Active                             385\n",
       "Cleared                             79\n",
       "Closed                              67\n",
       "Deferred - Other                    38\n",
       "Cancel                              36\n",
       "Deferred - Cust Information         31\n",
       "Active - DVCI                       13\n",
       "Deferred - Cust Vendor               9\n",
       "Deferred - Delayed Maintenance       4\n",
       "Active - SME                         2\n",
       "Deferred - Pend Recurrence           2\n",
       "Name: status, dtype: int64"
      ]
     },
     "execution_count": 38,
     "metadata": {},
     "output_type": "execute_result"
    }
   ],
   "source": [
    "comb['status'].value_counts()"
   ]
  },
  {
   "cell_type": "raw",
   "metadata": {},
   "source": [
    "--Tickets that don't need dev team attention. Considered as Resolved\n",
    "\n",
    "Cancel                              36\n",
    "Assigned To PS-T1                 1151\n",
    "Ready to Close                     658\n",
    "Cleared                             79\n",
    "Closed                              67\n",
    "Deferred - Other                    38\n",
    "Deferred - Cust Information         31\n",
    "Deferred - Cust Vendor               9\n",
    "Deferred - Delayed Maintenance       4\n",
    "Deferred - Pend Recurrence           2\n",
    "Queued                            2952\n",
    "\n",
    "--Tickets that NEED dev team attention\n",
    "\n",
    "Active                             385\n",
    "Active - DVCI                       13\n",
    "Active - SME                         2"
   ]
  },
  {
   "cell_type": "code",
   "execution_count": 39,
   "metadata": {},
   "outputs": [],
   "source": [
    "def status_mapping(status):\n",
    "    if status in ['Active','Active - DVCI','Active - SME']:\n",
    "        return 'Active'\n",
    "    else:\n",
    "        return 'Resolved'"
   ]
  },
  {
   "cell_type": "code",
   "execution_count": 40,
   "metadata": {},
   "outputs": [],
   "source": [
    "comb['status']=comb['status'].apply(status_mapping)"
   ]
  },
  {
   "cell_type": "code",
   "execution_count": 41,
   "metadata": {},
   "outputs": [
    {
     "data": {
      "text/plain": [
       "Resolved    5027\n",
       "Active       400\n",
       "Name: status, dtype: int64"
      ]
     },
     "execution_count": 41,
     "metadata": {},
     "output_type": "execute_result"
    }
   ],
   "source": [
    "comb['status'].value_counts()"
   ]
  },
  {
   "cell_type": "raw",
   "metadata": {},
   "source": [
    "# So we have 5027 resolved ticket data & 400 active ticket data\n",
    "we can look for 400 active tickets in resolved status tickets for solution if similar\n"
   ]
  },
  {
   "cell_type": "code",
   "execution_count": 42,
   "metadata": {},
   "outputs": [
    {
     "data": {
      "text/html": [
       "<div>\n",
       "<style scoped>\n",
       "    .dataframe tbody tr th:only-of-type {\n",
       "        vertical-align: middle;\n",
       "    }\n",
       "\n",
       "    .dataframe tbody tr th {\n",
       "        vertical-align: top;\n",
       "    }\n",
       "\n",
       "    .dataframe thead th {\n",
       "        text-align: right;\n",
       "    }\n",
       "</style>\n",
       "<table border=\"1\" class=\"dataframe\">\n",
       "  <thead>\n",
       "    <tr style=\"text-align: right;\">\n",
       "      <th></th>\n",
       "      <th>ticket</th>\n",
       "      <th>status</th>\n",
       "      <th>description</th>\n",
       "    </tr>\n",
       "  </thead>\n",
       "  <tbody>\n",
       "    <tr>\n",
       "      <th>3997</th>\n",
       "      <td>213925769</td>\n",
       "      <td>Active</td>\n",
       "      <td>CLOSE KEY TRACKING ONLY</td>\n",
       "    </tr>\n",
       "    <tr>\n",
       "      <th>2944</th>\n",
       "      <td>210027742</td>\n",
       "      <td>Resolved</td>\n",
       "      <td>MY ATT SERVICES</td>\n",
       "    </tr>\n",
       "  </tbody>\n",
       "</table>\n",
       "</div>"
      ],
      "text/plain": [
       "         ticket    status               description\n",
       "3997  213925769    Active  CLOSE KEY TRACKING ONLY \n",
       "2944  210027742  Resolved           MY ATT SERVICES"
      ]
     },
     "execution_count": 42,
     "metadata": {},
     "output_type": "execute_result"
    }
   ],
   "source": [
    "comb.to_csv('data/comb.csv',index=False)\n",
    "comb.sample(2)"
   ]
  },
  {
   "cell_type": "code",
   "execution_count": 43,
   "metadata": {},
   "outputs": [],
   "source": [
    "train=comb[comb['status']=='Resolved']"
   ]
  },
  {
   "cell_type": "code",
   "execution_count": 44,
   "metadata": {},
   "outputs": [
    {
     "data": {
      "text/plain": [
       "(5027, 3)"
      ]
     },
     "execution_count": 44,
     "metadata": {},
     "output_type": "execute_result"
    }
   ],
   "source": [
    "# This much we have data for old tickets that are sovled : reference\n",
    "train.shape"
   ]
  },
  {
   "cell_type": "code",
   "execution_count": 45,
   "metadata": {},
   "outputs": [
    {
     "name": "stderr",
     "output_type": "stream",
     "text": [
      "C:\\Users\\akashmas\\AppData\\Local\\Continuum\\anaconda3\\lib\\site-packages\\ipykernel_launcher.py:1: SettingWithCopyWarning: \n",
      "A value is trying to be set on a copy of a slice from a DataFrame.\n",
      "Try using .loc[row_indexer,col_indexer] = value instead\n",
      "\n",
      "See the caveats in the documentation: https://pandas.pydata.org/pandas-docs/stable/user_guide/indexing.html#returning-a-view-versus-a-copy\n",
      "  \"\"\"Entry point for launching an IPython kernel.\n",
      "C:\\Users\\akashmas\\AppData\\Local\\Continuum\\anaconda3\\lib\\site-packages\\ipykernel_launcher.py:2: SettingWithCopyWarning: \n",
      "A value is trying to be set on a copy of a slice from a DataFrame.\n",
      "Try using .loc[row_indexer,col_indexer] = value instead\n",
      "\n",
      "See the caveats in the documentation: https://pandas.pydata.org/pandas-docs/stable/user_guide/indexing.html#returning-a-view-versus-a-copy\n",
      "  \n"
     ]
    }
   ],
   "source": [
    "train['description']=train['description'].apply(lambda x : re.sub('[^a-zA-Z0-9$-]', ' ', x) )\n",
    "train['description']=train['description'].apply(lambda x : x.lower())"
   ]
  },
  {
   "cell_type": "code",
   "execution_count": 46,
   "metadata": {},
   "outputs": [
    {
     "data": {
      "text/plain": [
       "0       advanced tv has no network connectivity   need...\n",
       "1                                 pdc uverse order issues\n",
       "2                                      application issues\n",
       "3       register just re-imaged by local it and it doe...\n",
       "4                                    z - other soe issues\n",
       "                              ...                        \n",
       "5422    missing credit response ref error on failed tr...\n",
       "5423    error for reports ran from webcapm in spring mode\n",
       "5424      ob westunion genwuaccts accountinfo job failure\n",
       "5425    distribution report the report is not showing ...\n",
       "5426    ar plans for 3 subs failed with the error - pa...\n",
       "Name: description, Length: 5027, dtype: object"
      ]
     },
     "execution_count": 46,
     "metadata": {},
     "output_type": "execute_result"
    }
   ],
   "source": [
    "train['description']"
   ]
  },
  {
   "cell_type": "code",
   "execution_count": 47,
   "metadata": {},
   "outputs": [],
   "source": [
    "cv = CountVectorizer(stop_words='english') #stop_words='english'\n",
    "count_matrix = cv.fit_transform(train['description'])"
   ]
  },
  {
   "cell_type": "code",
   "execution_count": 48,
   "metadata": {},
   "outputs": [
    {
     "name": "stdout",
     "output_type": "stream",
     "text": [
      "4366 vocabulary words\n",
      "(5027, 4366)  shape of matrix\n"
     ]
    }
   ],
   "source": [
    "print(len(cv.vocabulary_),'vocabulary words')\n",
    "print(count_matrix.shape,' shape of matrix')"
   ]
  },
  {
   "cell_type": "code",
   "execution_count": 49,
   "metadata": {},
   "outputs": [],
   "source": [
    "sim = cosine_similarity(count_matrix)"
   ]
  },
  {
   "cell_type": "code",
   "execution_count": 50,
   "metadata": {},
   "outputs": [],
   "source": [
    "#ans[0:4]\n",
    "#train['ticket'][9].values"
   ]
  },
  {
   "cell_type": "code",
   "execution_count": 51,
   "metadata": {},
   "outputs": [],
   "source": [
    "# Checking by taking an example\n",
    "\n",
    "m='APPLICATION ISSUES'\n",
    "m=m.lower().strip()\n",
    "\n",
    "# getting the index of the ticket in the dataframe\n",
    "i = train.loc[train['description']==m].index[0]\n",
    "\n",
    "lst = list(enumerate(sim[i]))\n",
    "\n",
    "# sorting this list in decreasing order based on the similarity score\n",
    "lst = sorted(lst, key = lambda x:x[1] ,reverse=True)\n",
    "\n",
    "# taking top 1- Tickets\n",
    "# not taking the first index since it is the same Tcket\n",
    "lst = lst[1:3]\n",
    "\n",
    "#print('lst[0]:',lst[0])\n",
    "#print('lst[0][0]:',lst[0][0])\n",
    "\n",
    "# making an empty list that will containg all the similar tickets nos\n",
    "ans = []\n",
    "for i in range(len(lst)):\n",
    "    a = lst[i][0]\n",
    "    ans.append(train.iloc[a].values)   #,'status','description'\n"
   ]
  },
  {
   "cell_type": "code",
   "execution_count": 52,
   "metadata": {},
   "outputs": [
    {
     "data": {
      "text/html": [
       "<div>\n",
       "<style scoped>\n",
       "    .dataframe tbody tr th:only-of-type {\n",
       "        vertical-align: middle;\n",
       "    }\n",
       "\n",
       "    .dataframe tbody tr th {\n",
       "        vertical-align: top;\n",
       "    }\n",
       "\n",
       "    .dataframe thead th {\n",
       "        text-align: right;\n",
       "    }\n",
       "</style>\n",
       "<table border=\"1\" class=\"dataframe\">\n",
       "  <thead>\n",
       "    <tr style=\"text-align: right;\">\n",
       "      <th></th>\n",
       "      <th>ticket</th>\n",
       "      <th>status</th>\n",
       "      <th>description</th>\n",
       "    </tr>\n",
       "  </thead>\n",
       "  <tbody>\n",
       "    <tr>\n",
       "      <th>4298</th>\n",
       "      <td>243087989</td>\n",
       "      <td>Resolved</td>\n",
       "      <td>settlegcs batch cc fcp 1 20180320130036 failed</td>\n",
       "    </tr>\n",
       "  </tbody>\n",
       "</table>\n",
       "</div>"
      ],
      "text/plain": [
       "         ticket    status                                     description\n",
       "4298  243087989  Resolved  settlegcs batch cc fcp 1 20180320130036 failed"
      ]
     },
     "execution_count": 52,
     "metadata": {},
     "output_type": "execute_result"
    }
   ],
   "source": [
    "train['ticket'][37]\n",
    "train[train['ticket']==243087989]\n",
    "\n",
    "# Previously, while comining two dfs, i was not ignoring individual indexes, hence two ticket with same index existed.\n",
    "# hence added ignore_index=True above"
   ]
  },
  {
   "cell_type": "code",
   "execution_count": 53,
   "metadata": {},
   "outputs": [
    {
     "name": "stdout",
     "output_type": "stream",
     "text": [
      "[149945647 'Resolved' 'application issues - general']\n",
      "[176248643 'Resolved' 'all issues']\n"
     ]
    }
   ],
   "source": [
    "#print out the list\n",
    "for rec in ans:\n",
    "    print(rec)"
   ]
  },
  {
   "cell_type": "raw",
   "metadata": {},
   "source": [
    "***TWO Similar Tickets with description :\n",
    "149945647\tResolved\tAPPLICATION ISSUES - GENERAL\n",
    "153925055\tResolved\tAPPLICATION - DEFECT WITHIN ESON APPLICATION\n",
    "\n",
    "If we discard stopwords\n",
    "149945647\tResolved\tAPPLICATION ISSUES - GENERAL\n",
    "176222126\tResolved\t\"AIT:EBS 450 * - STATE OF OHIO - MISSING MAGTAPES\"\n"
   ]
  },
  {
   "cell_type": "code",
   "execution_count": null,
   "metadata": {},
   "outputs": [],
   "source": []
  }
 ],
 "metadata": {
  "kernelspec": {
   "display_name": "Python 3",
   "language": "python",
   "name": "python3"
  },
  "language_info": {
   "codemirror_mode": {
    "name": "ipython",
    "version": 3
   },
   "file_extension": ".py",
   "mimetype": "text/x-python",
   "name": "python",
   "nbconvert_exporter": "python",
   "pygments_lexer": "ipython3",
   "version": "3.7.3"
  }
 },
 "nbformat": 4,
 "nbformat_minor": 2
}
